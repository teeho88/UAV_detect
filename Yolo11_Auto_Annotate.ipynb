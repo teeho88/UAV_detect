{
 "cells": [
  {
   "cell_type": "code",
   "execution_count": 11,
   "metadata": {},
   "outputs": [],
   "source": [
    "import cv2\n",
    "import numpy as np\n",
    "from tqdm import tqdm\n",
    "from matplotlib import pyplot as plt\n",
    "import os"
   ]
  },
  {
   "cell_type": "code",
   "execution_count": 108,
   "metadata": {},
   "outputs": [],
   "source": [
    "def cv2_imshow(img):\n",
    "    image_rgb = cv2.cvtColor(img, cv2.COLOR_BGR2RGB)\n",
    "    plt.imshow(image_rgb)\n",
    "    plt.axis('off')  # Hide axis\n",
    "    plt.show()"
   ]
  },
  {
   "cell_type": "markdown",
   "metadata": {},
   "source": [
    "<h1>Get data</h1>"
   ]
  },
  {
   "cell_type": "code",
   "execution_count": 13,
   "metadata": {},
   "outputs": [],
   "source": [
    "def split_image(image, rows, cols):\n",
    "    # Get the dimensions of the image\n",
    "    height, width = image.shape[:2]\n",
    "    \n",
    "    # Calculate the height and width of each sub-image\n",
    "    sub_height = height // rows\n",
    "    sub_width = width // cols\n",
    "    \n",
    "    # Create a list to store the sub-images\n",
    "    sub_images = []\n",
    "    \n",
    "    for row in range(rows):\n",
    "        for col in range(cols):\n",
    "            # Calculate the coordinates of each sub-image\n",
    "            start_y = row * sub_height\n",
    "            start_x = col * sub_width\n",
    "            end_y = (row + 1) * sub_height\n",
    "            end_x = (col + 1) * sub_width\n",
    "            \n",
    "            # Crop the sub-image\n",
    "            sub_image = image[start_y:end_y, start_x:end_x]\n",
    "            sub_images.append(sub_image)\n",
    "    \n",
    "    return sub_images\n",
    "\n",
    "def get_center_region(image):\n",
    "    # Detect the UAV in the frame\n",
    "    # Get image dimensions\n",
    "    height, width = image.shape[:2]\n",
    "\n",
    "    # Calculate the center and radius for the circular crop\n",
    "    center_x, center_y = width // 2, height // 2\n",
    "    radius = min(center_x, center_y, width//4)  # Radius is limited by the smallest dimension\n",
    "\n",
    "    # Crop the rectangular bounding box around the circle\n",
    "    x1, y1 = center_x - radius, center_y - radius\n",
    "    x2, y2 = center_x + radius, center_y + radius\n",
    "\n",
    "    return image[y1:y2, x1:x2]\n",
    "\n",
    "def extract_images(video_path, output_dir, num_frames):\n",
    "    # Open the video file\n",
    "    cap = cv2.VideoCapture(video_path)\n",
    "    \n",
    "    # Get the total number of frames in the video\n",
    "    total_frames = int(cap.get(cv2.CAP_PROP_FRAME_COUNT))\n",
    "    \n",
    "    # Calculate the interval to extract evenly spaced frames\n",
    "    interval = total_frames / num_frames\n",
    "    \n",
    "    file_name = os.path.join(output_dir, os.path.splitext(os.path.basename(video_path))[0])\n",
    "    num_images = 0\n",
    "    for i in tqdm(range(num_frames), desc=f\"Progressive {file_name}\", leave=True):\n",
    "        # Set the position of the next frame\n",
    "        frame_id = round(i * interval)\n",
    "        cap.set(cv2.CAP_PROP_POS_FRAMES, frame_id)\n",
    "        \n",
    "        # Read the frame\n",
    "        ret, frame = cap.read()\n",
    "        if not ret:\n",
    "            break  # Break if unable to read the frame\n",
    "        \n",
    "        center_region = get_center_region(frame)\n",
    "        cv2.imwrite(f\"{file_name}_{i}.jpg\", center_region)\n",
    "        num_images += 1\n",
    "    \n",
    "    cap.release()\n",
    "    return num_images"
   ]
  },
  {
   "cell_type": "code",
   "execution_count": 14,
   "metadata": {},
   "outputs": [
    {
     "name": "stderr",
     "output_type": "stream",
     "text": [
      "Progressive Images/Data\\WIN_20241101_08_28_33_Pro: 100%|██████████| 400/400 [00:30<00:00, 13.05it/s]\n",
      "Progressive Images/Data\\WIN_20241101_14_23_19_Pro: 100%|██████████| 400/400 [00:36<00:00, 11.04it/s]\n",
      "Progressive Images/Data\\WIN_20241101_14_26_40_Pro: 100%|██████████| 400/400 [00:39<00:00, 10.23it/s]\n",
      "Progressive Images/Data\\WIN_20241106_14_41_25_Pro: 100%|██████████| 400/400 [00:34<00:00, 11.47it/s]\n",
      "Progressive Images/Data\\WIN_20241106_14_46_25_Pro: 100%|██████████| 400/400 [00:34<00:00, 11.59it/s]\n",
      "Progressive Images/Data\\WIN_20241106_14_47_15_Pro: 100%|██████████| 400/400 [00:33<00:00, 11.77it/s]\n",
      "Progressive Images/Data\\WIN_20241106_14_56_09_Pro: 100%|██████████| 400/400 [00:33<00:00, 11.83it/s]\n",
      "Progressive Images/Data\\WIN_20241106_14_57_42_Pro: 100%|██████████| 400/400 [00:25<00:00, 15.71it/s]\n",
      "Progressive Images/Data\\WIN_20241106_14_58_08_Pro: 100%|██████████| 400/400 [00:29<00:00, 13.77it/s]\n",
      "Progressive Images/Data\\WIN_20241106_15_01_04_Pro: 100%|██████████| 400/400 [00:30<00:00, 13.26it/s]\n",
      "Progressive Images/Data\\WIN_20241106_15_07_43_Pro: 100%|██████████| 400/400 [00:27<00:00, 14.79it/s]\n",
      "Progressive Images/Data\\WIN_20241106_15_08_25_Pro: 100%|██████████| 400/400 [00:27<00:00, 14.73it/s]\n",
      "Progressive Images/Data\\WIN_20241106_15_09_15_Pro: 100%|██████████| 400/400 [00:28<00:00, 13.91it/s]\n",
      "Progressive Images/Data\\WIN_20241106_15_10_23_Pro: 100%|██████████| 400/400 [00:28<00:00, 13.88it/s]\n",
      "Progressive Images/Data\\WIN_20241106_15_11_08_Pro: 100%|██████████| 400/400 [00:24<00:00, 16.04it/s]\n",
      "Progressive Images/Data\\WIN_20241106_15_13_10_Pro: 100%|██████████| 400/400 [00:25<00:00, 15.86it/s]\n",
      "Progressive Images/Data\\WIN_20241106_15_13_50_Pro: 100%|██████████| 400/400 [00:26<00:00, 15.16it/s]"
     ]
    },
    {
     "name": "stdout",
     "output_type": "stream",
     "text": [
      "num images: 6800\n"
     ]
    },
    {
     "name": "stderr",
     "output_type": "stream",
     "text": [
      "\n"
     ]
    }
   ],
   "source": [
    "# Capture video from the webcam or a video file\n",
    "video_path = \"Images/Sources\"\n",
    "output_path = \"Images/Data\"\n",
    "video_names = os.listdir(video_path)\n",
    "num_imgs = 0\n",
    "for i, video_name in enumerate(video_names):\n",
    "    num = extract_images(os.path.join(video_path, video_name), output_path, 400)  # Change to the video file path if needed\n",
    "    num_imgs += num\n",
    "print(f\"num images: {num_imgs}\")"
   ]
  },
  {
   "cell_type": "markdown",
   "metadata": {},
   "source": [
    "<h1>Auto annotation</h1>"
   ]
  },
  {
   "cell_type": "code",
   "execution_count": 12,
   "metadata": {},
   "outputs": [],
   "source": [
    "from ultralytics import YOLO"
   ]
  },
  {
   "cell_type": "code",
   "execution_count": 2,
   "metadata": {},
   "outputs": [],
   "source": [
    "model = YOLO(\"yolo11m.pt\")  # load a pretrained model (recommended for training)"
   ]
  },
  {
   "cell_type": "code",
   "execution_count": null,
   "metadata": {},
   "outputs": [],
   "source": [
    "# Train the model\n",
    "results = model.train(data=\"datasetConfigure.yaml\", epochs=100, imgsz=640, device=0)"
   ]
  },
  {
   "cell_type": "code",
   "execution_count": 4,
   "metadata": {},
   "outputs": [],
   "source": [
    "# Load a model\n",
    "model = YOLO(\"runs//detect//train//weights//best.pt\")  # pretrained YOLO11n model"
   ]
  },
  {
   "cell_type": "code",
   "execution_count": 117,
   "metadata": {},
   "outputs": [
    {
     "name": "stdout",
     "output_type": "stream",
     "text": [
      "\n",
      "image 1/1 e:\\TAILIEU\\MyProject\\AI_Project\\UAV_Detection\\Images\\Data\\WIN_20241101_14_23_19_Pro_395.jpg: 640x640 (no detections), 55.0ms\n",
      "Speed: 5.0ms preprocess, 55.0ms inference, 1.0ms postprocess per image at shape (1, 3, 640, 640)\n"
     ]
    }
   ],
   "source": [
    "# Run batched inference on a list of images\n",
    "img = \"Images//Data//WIN_20241101_14_23_19_Pro_395.jpg\"\n",
    "results = model(img)  # return a list of Results objects\n",
    "\n",
    "# Process results list\n",
    "for result in results:\n",
    "    boxes = result.boxes  # Boxes object for bounding box outputs\n",
    "    masks = result.masks  # Masks object for segmentation masks outputs\n",
    "    keypoints = result.keypoints  # Keypoints object for pose outputs\n",
    "    probs = result.probs  # Probs object for classification outputs\n",
    "    obb = result.obb  # Oriented boxes object for OBB outputs\n",
    "    result.show()  # display to screen\n",
    "    result.save(filename=f\"Images//test//{os.path.basename(img)}\")  # save to disk"
   ]
  },
  {
   "cell_type": "markdown",
   "metadata": {},
   "source": [
    "<h1>Train</h1>"
   ]
  },
  {
   "cell_type": "code",
   "execution_count": null,
   "metadata": {},
   "outputs": [],
   "source": []
  },
  {
   "cell_type": "markdown",
   "metadata": {},
   "source": [
    "<h1>Export</h1>"
   ]
  },
  {
   "cell_type": "code",
   "execution_count": null,
   "metadata": {},
   "outputs": [],
   "source": [
    "# Load the YOLO11 model\n",
    "model = YOLO(\"runs//detect//train//weights//best.pt\")\n",
    "\n",
    "# Export the model to ONNX format\n",
    "model.export(format=\"onnx\")  # creates 'yolo11m.onnx'"
   ]
  },
  {
   "cell_type": "code",
   "execution_count": 14,
   "metadata": {},
   "outputs": [],
   "source": [
    "# Load the exported ONNX model\n",
    "onnx_model = YOLO(\"runs//detect//train//weights//best.pt\")"
   ]
  },
  {
   "cell_type": "code",
   "execution_count": 16,
   "metadata": {},
   "outputs": [
    {
     "name": "stdout",
     "output_type": "stream",
     "text": [
      "\n",
      "0: 640x640 1 UAV, 257.0ms\n",
      "Speed: 10.0ms preprocess, 257.0ms inference, 57.0ms postprocess per image at shape (1, 3, 640, 640)\n"
     ]
    }
   ],
   "source": [
    "# Run inference\n",
    "img = \"Images//Data//WIN_20241106_14_41_25_Pro_99.jpg\"\n",
    "inp = cv2.imread(img)\n",
    "results = onnx_model(inp, conf=0.4, device=0)\n",
    "# Process results list\n",
    "for result in results:\n",
    "    boxes = result.boxes  # Boxes object for bounding box outputs\n",
    "    # result.show()  # display to screen\n",
    "    # result.save(filename=f\"Images//test//{os.path.basename(img)}\")  # save to disk"
   ]
  },
  {
   "cell_type": "code",
   "execution_count": 17,
   "metadata": {},
   "outputs": [
    {
     "data": {
      "text/plain": [
       "ultralytics.engine.results.Boxes object with attributes:\n",
       "\n",
       "cls: tensor([0.], device='cuda:0')\n",
       "conf: tensor([0.6201], device='cuda:0')\n",
       "data: tensor([[ 42.6787, 568.7203, 172.9403, 613.1460,   0.6201,   0.0000]], device='cuda:0')\n",
       "id: None\n",
       "is_track: False\n",
       "orig_shape: (960, 960)\n",
       "shape: torch.Size([1, 6])\n",
       "xywh: tensor([[107.8095, 590.9332, 130.2615,  44.4257]], device='cuda:0')\n",
       "xywhn: tensor([[0.1123, 0.6156, 0.1357, 0.0463]], device='cuda:0')\n",
       "xyxy: tensor([[ 42.6787, 568.7203, 172.9403, 613.1460]], device='cuda:0')\n",
       "xyxyn: tensor([[0.0445, 0.5924, 0.1801, 0.6387]], device='cuda:0')"
      ]
     },
     "execution_count": 17,
     "metadata": {},
     "output_type": "execute_result"
    }
   ],
   "source": [
    "boxes"
   ]
  },
  {
   "cell_type": "code",
   "execution_count": 23,
   "metadata": {},
   "outputs": [
    {
     "name": "stdout",
     "output_type": "stream",
     "text": [
      "42.67873764038086\n"
     ]
    }
   ],
   "source": [
    "for box in boxes.xyxy:\n",
    "    print(box[0].item())"
   ]
  },
  {
   "cell_type": "code",
   "execution_count": 20,
   "metadata": {},
   "outputs": [
    {
     "data": {
      "text/plain": [
       "1"
      ]
     },
     "execution_count": 20,
     "metadata": {},
     "output_type": "execute_result"
    }
   ],
   "source": [
    "len(boxes.cls)"
   ]
  },
  {
   "cell_type": "code",
   "execution_count": 115,
   "metadata": {},
   "outputs": [
    {
     "data": {
      "image/png": "[encoded data removed]",
      "text/plain": [
       "<Figure size 640x480 with 1 Axes>"
      ]
     },
     "metadata": {},
     "output_type": "display_data"
    }
   ],
   "source": [
    "frame = result.orig_img\n",
    "x = int(boxes.xyxy[0][0].item())\n",
    "y = int(boxes.xyxy[0][1].item())\n",
    "x1 = int(boxes.xyxy[0][2].item())\n",
    "y1 = int(boxes.xyxy[0][3].item())\n",
    "cv2.rectangle(frame, (x, y), (x1, y1), (0, 0, 255), 2)\n",
    "cv2.putText(frame, \"UAV detected\", (x, y - 10), cv2.FONT_HERSHEY_SIMPLEX, 1, (0, 255, 0), 2)\n",
    "cv2_imshow(frame)"
   ]
  },
  {
   "cell_type": "markdown",
   "metadata": {},
   "source": [
    "<h1>Test</h1>"
   ]
  },
  {
   "cell_type": "code",
   "execution_count": 1,
   "metadata": {},
   "outputs": [
    {
     "name": "stdout",
     "output_type": "stream",
     "text": [
      "10.6.0\n"
     ]
    }
   ],
   "source": [
    "import tensorrt as trt\n",
    "print(trt.__version__)"
   ]
  },
  {
   "cell_type": "markdown",
   "metadata": {},
   "source": []
  }
 ],
 "metadata": {
  "kernelspec": {
   "display_name": ".venv",
   "language": "python",
   "name": "python3"
  },
  "language_info": {
   "codemirror_mode": {
    "name": "ipython",
    "version": 3
   },
   "file_extension": ".py",
   "mimetype": "text/x-python",
   "name": "python",
   "nbconvert_exporter": "python",
   "pygments_lexer": "ipython3",
   "version": "3.9.0"
  }
 },
 "nbformat": 4,
 "nbformat_minor": 2
}
